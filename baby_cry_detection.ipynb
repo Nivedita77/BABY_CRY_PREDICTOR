{
  "cells": [
    {
      "cell_type": "code",
      "execution_count": 14,
      "metadata": {
        "id": "XEzEJw8lRElx"
      },
      "outputs": [],
      "source": [
        "import os\n",
        "import numpy as np\n",
        "import librosa\n",
        "from sklearn.ensemble import RandomForestClassifier, GradientBoostingClassifier\n",
        "from sklearn.svm import SVC\n",
        "from sklearn.neighbors import KNeighborsClassifier\n",
        "from sklearn.model_selection import train_test_split\n",
        "from sklearn.metrics import accuracy_score\n",
        "import pickle\n"
      ]
    },
    {
      "cell_type": "code",
      "execution_count": 15,
      "metadata": {
        "id": "o4kpH8UYRGT0"
      },
      "outputs": [],
      "source": [
        "# Function to extract features from audio file\n",
        "def extract_features(file_path, mfcc=True, chroma=True, mel=True):\n",
        "    with open(file_path, \"rb\") as f:\n",
        "        y, sr = librosa.load(f)\n",
        "\n",
        "    features = []\n",
        "    if mfcc:\n",
        "        mfccs = np.mean(librosa.feature.mfcc(y=y, sr=sr, n_mfcc=13).T, axis=0)\n",
        "        features.extend(mfccs)\n",
        "    if chroma:\n",
        "        chroma = np.mean(librosa.feature.chroma_stft(y=y, sr=sr).T, axis=0)\n",
        "        features.extend(chroma)\n",
        "    if mel:\n",
        "        mel = np.mean(librosa.feature.melspectrogram(y=y, sr=sr).T, axis=0)\n",
        "        features.extend(mel)\n",
        "\n",
        "    return features\n"
      ]
    },
    {
      "cell_type": "code",
      "execution_count": 16,
      "metadata": {
        "id": "b8EquLDLRJAB"
      },
      "outputs": [],
      "source": [
        "# Function to train and save a classifier and return the trained model\n",
        "def train_and_save_classifier(X_train, y_train, model_path, classifier):\n",
        "    classifier.fit(X_train, y_train)\n",
        "    with open(model_path, 'wb') as f:\n",
        "        pickle.dump(classifier, f)\n",
        "    return classifier\n",
        "\n",
        "# Function to load classifier\n",
        "def load_classifier(model_path):\n",
        "    with open(model_path, 'rb') as f:\n",
        "        classifier = pickle.load(f)\n",
        "    return classifier\n",
        "\n",
        "# Function to classify audio file and provide reason\n",
        "def classify_audio(audio_file, classifier):\n",
        "    features = extract_features(audio_file)\n",
        "    prediction = classifier.predict([features])[0]\n",
        "    class_mapping = {0: \"tired\", 1: \"burping\", 2: \"hungry\", 3: \"discomfort\", 4: \"belly_pain\"}\n",
        "    predicted_class = class_mapping[prediction]\n",
        "    \n",
        "    reason_mapping = {\n",
        "        \"belly_pain\": \"Colic or Belly pain\",\n",
        "        \"hungry\": \"Exhaustion or hunger\",\n",
        "        \"discomfort\": \"Lack of Affection and Attention or discomfrot\",\n",
        "        \"tired\": \"tirednessor lack of sleep\"\n",
        "    }\n",
        "    \n",
        "    reason = reason_mapping.get(predicted_class, predicted_class)\n",
        "    return reason\n",
        "\n",
        "# Path to the directory containing audio files\n",
        "audio_dir = \"C:/Users/hp/Downloads/flaskdep/donateacry_corpus_cleaned_and_updated_data\"\n",
        "class_mapping = {\n",
        "    \"tired\": 0,\n",
        "    \"burping\": 1,\n",
        "    \"hungry\": 2,\n",
        "    \"discomfort\": 3,\n",
        "    \"belly_pain\": 4\n",
        "}\n",
        "\n",
        "# Function to load audio files, extract features, and create feature files\n",
        "feature_files = []\n",
        "labels = []"
      ]
    },
    {
      "cell_type": "code",
      "execution_count": 17,
      "metadata": {
        "id": "L0mqxJHoRJND"
      },
      "outputs": [
        {
          "name": "stdout",
          "output_type": "stream",
          "text": [
            "Random Forest Model trained and saved successfully!\n",
            "SVM Model trained and saved successfully!\n",
            "Gradient Boosting Model trained and saved successfully!\n",
            "KNN Model trained and saved successfully!\n"
          ]
        }
      ],
      "source": [
        "def process_folder(folder_path, label_id):\n",
        "    files = [f for f in os.listdir(folder_path) if f.endswith(\".wav\")]\n",
        "    for filename in files:\n",
        "        file_path = os.path.join(folder_path, filename)\n",
        "        features = extract_features(file_path)\n",
        "        feature_files.append(features)\n",
        "        labels.append(label_id)\n",
        "\n",
        "# Process each folder\n",
        "for folder, label_id in class_mapping.items():\n",
        "    folder_path = os.path.join(audio_dir, folder)\n",
        "    process_folder(folder_path, label_id)\n",
        "\n",
        "# Convert lists to numpy arrays\n",
        "X = np.array(feature_files)\n",
        "y = np.array(labels)\n",
        "\n",
        "# Split the dataset into training and testing sets\n",
        "X_train, X_test, y_train, y_test = train_test_split(X, y, test_size=0.2, random_state=42)\n",
        "\n",
        "# Train and save classifiers\n",
        "rf_model_path = \"C:/Users/hp/Downloads/flaskdep/rf_model.pkl\"\n",
        "rf_classifier = train_and_save_classifier(X_train, y_train, rf_model_path, RandomForestClassifier(n_estimators=100, random_state=42))\n",
        "print(\"Random Forest Model trained and saved successfully!\")\n",
        "\n",
        "svm_model_path = \"C:/Users/hp/Downloads/flaskdep/svm_model.pkl\"\n",
        "svm_classifier = train_and_save_classifier(X_train, y_train, svm_model_path, SVC(kernel='linear', random_state=42))\n",
        "print(\"SVM Model trained and saved successfully!\")\n",
        "\n",
        "gb_model_path = \"C:/Users/hp/Downloads/flaskdep/gb_model.pkl\"\n",
        "gb_classifier = train_and_save_classifier(X_train, y_train, gb_model_path, GradientBoostingClassifier(n_estimators=100, random_state=42))\n",
        "print(\"Gradient Boosting Model trained and saved successfully!\")\n",
        "\n",
        "knn_model_path = \"C:/Users/hp/Downloads/flaskdep/knn_model.pkl\"\n",
        "knn_classifier = train_and_save_classifier(X_train, y_train, knn_model_path, KNeighborsClassifier(n_neighbors=5))\n",
        "print(\"KNN Model trained and saved successfully!\")"
      ]
    },
    {
      "cell_type": "code",
      "execution_count": 18,
      "metadata": {
        "colab": {
          "base_uri": "https://localhost:8080/"
        },
        "id": "-zYiE9HfRSj8",
        "outputId": "0f955d21-7cf9-4b7f-d82f-addcf32a97eb"
      },
      "outputs": [
        {
          "name": "stdout",
          "output_type": "stream",
          "text": [
            "Random Forest Model trained and saved successfully!\n",
            "SVM Model trained and saved successfully!\n",
            "Gradient Boosting Model trained and saved successfully!\n",
            "KNN Model trained and saved successfully!\n"
          ]
        }
      ],
      "source": [
        "# Train and save classifiers\n",
        "rf_model_path = \"C:/Users/hp/Downloads/flaskdep/rf_model.pkl\"\n",
        "rf_classifier = train_and_save_classifier(X_train, y_train, rf_model_path, RandomForestClassifier(n_estimators=100, random_state=42))\n",
        "print(\"Random Forest Model trained and saved successfully!\")\n",
        "\n",
        "svm_model_path = \"C:/Users/hp/Downloads/flaskdep/svm_model.pkl\"\n",
        "svm_classifier = train_and_save_classifier(X_train, y_train, svm_model_path, SVC(kernel='linear', random_state=42))\n",
        "print(\"SVM Model trained and saved successfully!\")\n",
        "\n",
        "gb_model_path = \"C:/Users/hp/Downloads/flaskdep/gb_model.pkl\"\n",
        "gb_classifier = train_and_save_classifier(X_train, y_train, gb_model_path, GradientBoostingClassifier(n_estimators=100, random_state=42))\n",
        "print(\"Gradient Boosting Model trained and saved successfully!\")\n",
        "\n",
        "knn_model_path = \"C:/Users/hp/Downloads/flaskdep/knn_model.pkl\"\n",
        "knn_classifier = train_and_save_classifier(X_train, y_train, knn_model_path, KNeighborsClassifier(n_neighbors=5))\n",
        "print(\"KNN Model trained and saved successfully!\")\n"
      ]
    },
    {
      "cell_type": "code",
      "execution_count": 19,
      "metadata": {},
      "outputs": [
        {
          "name": "stdout",
          "output_type": "stream",
          "text": [
            "Random Forest Accuracy: 0.7934782608695652\n",
            "SVM Accuracy: 0.6304347826086957\n",
            "Gradient Boosting Accuracy: 0.7608695652173914\n",
            "KNN Accuracy: 0.7608695652173914\n",
            "The predicted reason for the audio file is: Exhaustion or hunger\n"
          ]
        }
      ],
      "source": [
        "# Evaluate the classifiers\n",
        "rf_predictions = rf_classifier.predict(X_test)\n",
        "svm_predictions = svm_classifier.predict(X_test)\n",
        "gb_predictions = gb_classifier.predict(X_test)\n",
        "knn_predictions = knn_classifier.predict(X_test)\n",
        "\n",
        "rf_accuracy = accuracy_score(y_test, rf_predictions)\n",
        "svm_accuracy = accuracy_score(y_test, svm_predictions)\n",
        "gb_accuracy = accuracy_score(y_test, gb_predictions)\n",
        "knn_accuracy = accuracy_score(y_test, knn_predictions)\n",
        "\n",
        "print(f\"Random Forest Accuracy: {rf_accuracy}\")\n",
        "print(f\"SVM Accuracy: {svm_accuracy}\")\n",
        "print(f\"Gradient Boosting Accuracy: {gb_accuracy}\")\n",
        "print(f\"KNN Accuracy: {knn_accuracy}\")\n",
        "\n",
        "# Function to classify an input audio file using the trained models\n",
        "def classify_input_audio(audio_file_path, model_type):\n",
        "    model_paths = {\n",
        "        \"random_forest\": rf_model_path,\n",
        "        \"svm\": svm_model_path,\n",
        "        \"gradient_boosting\": gb_model_path,\n",
        "        \"knn\": knn_model_path\n",
        "    }\n",
        "\n",
        "    if model_type not in model_paths:\n",
        "        raise ValueError(\"Invalid model type. Choose from 'random_forest', 'svm', 'gradient_boosting', or 'knn'.\")\n",
        "\n",
        "    classifier = load_classifier(model_paths[model_type])\n",
        "    reason = classify_audio(audio_file_path, classifier)\n",
        "    return reason\n",
        "\n",
        "# Example usage: Classify an audio file using Random Forest model\n",
        "audio_file_path = \"donateacry_corpus_cleaned_and_updated_data/hungry/0a983cd2-0078-4698-a048-99ac01eb167a-1433917038889-1.7-f-04-hu.wav\"\n",
        "model_type = \"random_forest\"  # Choose from 'random_forest', 'svm', 'gradient_boosting', 'knn'\n",
        "predicted_reason = classify_input_audio(audio_file_path, model_type)\n",
        "print(f\"The predicted reason for the audio file is: {predicted_reason}\")"
      ]
    }
  ],
  "metadata": {
    "colab": {
      "provenance": []
    },
    "kernelspec": {
      "display_name": "Python 3",
      "name": "python3"
    },
    "language_info": {
      "codemirror_mode": {
        "name": "ipython",
        "version": 3
      },
      "file_extension": ".py",
      "mimetype": "text/x-python",
      "name": "python",
      "nbconvert_exporter": "python",
      "pygments_lexer": "ipython3",
      "version": "3.12.2"
    }
  },
  "nbformat": 4,
  "nbformat_minor": 0
}
